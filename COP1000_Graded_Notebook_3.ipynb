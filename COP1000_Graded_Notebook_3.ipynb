{
  "nbformat": 4,
  "nbformat_minor": 0,
  "metadata": {
    "colab": {
      "provenance": [],
      "include_colab_link": true
    },
    "kernelspec": {
      "name": "python3",
      "display_name": "Python 3"
    },
    "language_info": {
      "name": "python"
    }
  },
  "cells": [
    {
      "cell_type": "markdown",
      "metadata": {
        "id": "view-in-github",
        "colab_type": "text"
      },
      "source": [
        "<a href=\"https://colab.research.google.com/github/Seb1015/SwiftUI-Tutorial/blob/main/COP1000_Graded_Notebook_3.ipynb\" target=\"_parent\"><img src=\"https://colab.research.google.com/assets/colab-badge.svg\" alt=\"Open In Colab\"/></a>"
      ]
    },
    {
      "cell_type": "markdown",
      "source": [
        "# Graded Notebook 3\n",
        "* **Possible 130 points out of 100.**\n",
        "\n",
        "* Your name here:\n",
        "* The shared link to this notebook here:"
      ],
      "metadata": {
        "id": "R6OmsErsrc7M"
      }
    },
    {
      "cell_type": "markdown",
      "source": [
        "## **Task 1** (40 points possible)\n",
        "*  In this lab, you complete a partially prewritten Python program that uses a list.\n",
        "\n",
        "The program prompts the user to interactively enter eight batting averages, which the program stores in an array. It should then find the minimum and maximum batting averages stored in the array, as well as the average of the eight batting averages. The data file provided for this lab includes the input statement and some variable declarations. Comments are included in the file to help you write the remainder of the program.\n",
        "\n",
        "* Write the Python statements as indicated by the comments.\n",
        "* Execute the program by clicking the Run button at the bottom of the screen. Enter the following batting averages: .299, .157, .242, .203, .198, .333, .270, .190. The minimum batting average should be .157 and the maximum batting average should be .333. The average should be .2365.\n",
        "\n",
        "    * Comments and code organization are expected to adhere to the requirements discussed in the course. **10 pts**\n",
        "    *  While loop funtions as expected **10 pts**\n",
        "    *  Lists is accessed as expected **10**\n",
        "    *  Output meets expectations (average is calculated correctly)  **10 pts**\n"
      ],
      "metadata": {
        "id": "dkOfTZt3rdMv"
      }
    },
    {
      "cell_type": "code",
      "source": [
        "# Declare a named constant for array size here.\n",
        "MAX_AVERAGES = 8\n",
        "\n",
        "# Declare array here.\n",
        "averages = [0] * MAX_AVERAGES\n",
        "\n",
        "# Write a loop to get batting averages from user and assign to array.\n",
        "for i in range(MAX_AVERAGES):\n",
        "    averageString = input(\"Enter a batting average: \")\n",
        "    battingAverage = float(averageString)\n",
        "    averages[i] = battingAverage\n",
        "\n",
        "# Assign the first element in the array to be the minimum and the maximum.\n",
        "minAverage = averages[0]\n",
        "maxAverage = averages[0]\n",
        "\n",
        "# Start out your total with the value of the first element in the array.\n",
        "total = averages[0]\n",
        "\n",
        "# Write a loop here to access array values starting with averages[1]\n",
        "for i in range(1, MAX_AVERAGES):\n",
        "    # Within the loop test for minimum and maximum batting averages.\n",
        "    if averages[i] < minAverage:\n",
        "        minAverage = averages[i]\n",
        "    if averages[i] > maxAverage:\n",
        "        maxAverage = averages[i]\n",
        "    # Also accumulate a total of all batting averages.\n",
        "    total += averages[i]\n",
        "\n",
        "# Calculate the average of the 8 batting averages.\n",
        "average = total / MAX_AVERAGES\n",
        "\n",
        "# Print the batting averages stored in the averages array.\n",
        "print(\"Batting averages:\", averages)\n",
        "\n",
        "# Print the maximum batting average, minimum batting average, and average batting average.\n",
        "print(\"Maximum batting average:\", maxAverage)\n",
        "print(\"Minimum batting average:\", minAverage)\n",
        "print(\"Average batting average:\", average)"
      ],
      "metadata": {
        "id": "LmeVTMd46ZyV"
      },
      "execution_count": null,
      "outputs": []
    },
    {
      "cell_type": "markdown",
      "source": [
        "## **Task 2** (40 points possible)\n",
        "*  In this task, you use what you have learned about searching a list to find an exact match to complete a partially prewritten Python program.\n",
        "\n",
        "The program uses a list that contains valid names for 10 cities in Michigan. You ask the user to enter a city name; your program then searches the list for that city name. If it is not found, the program should print a message that informs the user the city name is not found in the list of valid cities in Michigan.\n",
        "\n",
        "The starter file provided for this lab includes input statements. You need to write code to examine all the items in the list and test for a match. You also need to determine if you should print the \"Not a city in Michigan.\" message.\n",
        "\n",
        "Comments in the code tell you where to write your statements.\n",
        "\n",
        "* Write a loop statement that examines the names of cities stored in the list.\n",
        "* Write code that tests for a match.\n",
        "* Write code that, when appropriate, prints the message \"Not a city in Michigan.\".\n",
        "* Execute the program using the following as input to test it:\n",
        "  * Chicago\n",
        "  * Brooklyn\n",
        "  * Watervliet\n",
        "  * Acme\n",
        "\n",
        "\n",
        "* Comments and code organization are expected to adhere to the requirements discussed in the course. **5 pts**\n",
        "* Program produces the correct output for invalid input **10 pts**\n",
        "* Program produces the correct output for valid input **10 pts**\n",
        "* ***(Bonus points)*** create a loop using a sentinel value to allow the user to repeat the task and test several words ratherthan just one and done. **15 pts**\n",
        "\n"
      ],
      "metadata": {
        "id": "f2UkESAPru7Q"
      }
    },
    {
      "cell_type": "code",
      "source": [
        "# Input:  Interactive\n",
        "# Output:  Error message or nothing\n",
        "\n",
        "# Initialized list of cities\n",
        "citiesInMichigan = [\"Acme\", \"Albion\", \"Detroit\", \"Watervliet\", \"Coloma\", \"Saginaw\", \"Richland\", \"Glenn\", \"Midland\", \"Brooklyn\"]\n",
        "\n",
        "# Loop to allow the user to repeat the task\n",
        "while True:\n",
        "    # Get user input\n",
        "    inCity = input(\"Enter name of city (or 'q' to quit): \")\n",
        "\n",
        "    # Check if the user wants to quit\n",
        "    if inCity == \"q\":\n",
        "        break\n",
        "\n",
        "    # Write your test statement here to see if there is a match\n",
        "    if inCity in citiesInMichigan:\n",
        "        # If the city is found, print \"City found.\"\n",
        "        print(\"City found.\")\n",
        "    else:\n",
        "        # Otherwise, \"Not a city in Michigan\" message should be printed.\n",
        "        print(\"Not a city in Michigan.\")"
      ],
      "metadata": {
        "id": "oBmqAkNTrwcb"
      },
      "execution_count": null,
      "outputs": []
    },
    {
      "cell_type": "markdown",
      "source": [
        "## **Task 3** (50 points possible)\n",
        "*  Create a dictionary to store 10 words (of your choice) that have one or more values associated with the word. Please have some with multiple values.\n",
        "Have the user to perform a search of the directory words to return the values associated with it.\n",
        "\n",
        "* Comments and code organization are expected to adhere to the requirements discussed in the course. **5 pts**\n",
        "* Dict setup as expected **10 pts**\n",
        "* Disct is accessed/searched as expected **10 pts**\n",
        "* Output meets expectations (values associated with the words are displayed) **10 pts**\n",
        "* ***(Bonus points)*** create a loop using a sentinel value to allow the user to repeat the task and test several words ratherthan just one and done. **15 pts**"
      ],
      "metadata": {
        "id": "ErpMPcgDrwnb"
      }
    },
    {
      "cell_type": "code",
      "source": [
        "# Create a dictionary to store words and associated values\n",
        "wordDictionary = {\n",
        "    \"apple\": [\"fruit\", \"red\", \"healthy\"],\n",
        "    \"car\": [\"vehicle\", \"transportation\"],\n",
        "    \"book\": [\"reading\", \"knowledge\", \"paper\"],\n",
        "    \"dog\": [\"animal\", \"pet\", \"loyal\"],\n",
        "    \"sun\": [\"star\", \"light\", \"heat\"],\n",
        "    \"computer\": [\"technology\", \"internet\", \"work\"],\n",
        "    \"guitar\": [\"music\", \"instrument\", \"strings\"],\n",
        "    \"tree\": [\"nature\", \"oxygen\", \"shade\"],\n",
        "    \"pizza\": [\"food\", \"cheese\", \"delicious\"],\n",
        "    \"rain\": [\"weather\", \"water\", \"wet\"]\n",
        "}\n",
        "\n",
        "# Loop to allow the user to repeat the task\n",
        "while True:\n",
        "    # Get user input\n",
        "    word = input(\"Enter a word (or 'q' to quit): \")\n",
        "\n",
        "    # Check if the user wants to quit\n",
        "    if word == \"q\":\n",
        "        break\n",
        "\n",
        "    # Search the dictionary for the word\n",
        "    if word in wordDictionary:\n",
        "        # If the word is found, print the associated values\n",
        "        values = wordDictionary[word]\n",
        "        print(\"Values associated with\", word + \":\", \", \".join(values))\n",
        "    else:\n",
        "        # If the word is not found, print a message\n",
        "        print(\"Word not found in the dictionary.\")"
      ],
      "metadata": {
        "id": "XhEOQaFsr9Rh"
      },
      "execution_count": null,
      "outputs": []
    }
  ]
}