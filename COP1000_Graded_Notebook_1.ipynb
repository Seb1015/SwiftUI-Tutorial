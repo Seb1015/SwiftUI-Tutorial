{
  "nbformat": 4,
  "nbformat_minor": 0,
  "metadata": {
    "colab": {
      "provenance": [],
      "include_colab_link": true
    },
    "kernelspec": {
      "name": "python3",
      "display_name": "Python 3"
    },
    "language_info": {
      "name": "python"
    }
  },
  "cells": [
    {
      "cell_type": "markdown",
      "metadata": {
        "id": "view-in-github",
        "colab_type": "text"
      },
      "source": [
        "<a href=\"https://colab.research.google.com/github/Seb1015/SwiftUI-Tutorial/blob/main/COP1000_Graded_Notebook_1.ipynb\" target=\"_parent\"><img src=\"https://colab.research.google.com/assets/colab-badge.svg\" alt=\"Open In Colab\"/></a>"
      ]
    },
    {
      "cell_type": "markdown",
      "source": [
        "# Graded Notebook 1\n",
        "**Possible 112 points out of 100.**\n",
        "\n",
        "* Your name here: \n",
        "* The shared link to this notebook here: "
      ],
      "metadata": {
        "id": "jNKt4oUDTuQ7"
      }
    },
    {
      "cell_type": "markdown",
      "source": [
        "## **Task 1** (30 points possible)\n",
        "*  The User will be prompted for their name, The program will display a message to the user that is a combination of a constant that you declared and the user input.\n",
        "\n",
        "      *  Comments and code organization are expected to adhere to the requirements discussed in the course. **10 pts**\n",
        "      *  User prompt meets expectations **10 pts**\n",
        "      *  Output meets expectations **10 pts**"
      ],
      "metadata": {
        "id": "OpUjuUbtTy2a"
      }
    },
    {
      "cell_type": "code",
      "source": [
        "#Enter Task 1 code here\n"
      ],
      "metadata": {
        "id": "NucAGBbZqyDI"
      },
      "execution_count": null,
      "outputs": []
    },
    {
      "cell_type": "markdown",
      "source": [
        "## **Task 2** (32 points possible)\n",
        "*  The user will enter a number that will be stored and divided by 3. The output will be in decimal format.\n",
        "\n",
        "     *  Comments and code organization are expected to adhere to the requirements discussed in the course. **10 pts**\n",
        "     *  User prompt meets expectations **10 pts**\n",
        "     *  Output meets expectations **10 pts**\n",
        "\n",
        "**2 bonus points** applied if output is formatted in the format of two decimal precision points.\n",
        "\n",
        "example: 1.23"
      ],
      "metadata": {
        "id": "kVD-ynbMTzC5"
      }
    },
    {
      "cell_type": "code",
      "source": [
        "#Enter Task 2 code here"
      ],
      "metadata": {
        "id": "6dtfAbOaqxi4"
      },
      "execution_count": null,
      "outputs": []
    },
    {
      "cell_type": "markdown",
      "source": [
        "## **Task 3** (50 points possible)\n",
        "*  The user will be prompted to enter their name and age and based on the age the program will determine how many years remain until retirement at age 65, or if retirement age has been reached. From there the program will either congratulate the user on retirement or provide one of two outputs based on the length of time until retirement. You determine the number of years remaining conditions for those two outputs. \n",
        "      *  Comments and code organization are expected to adhere to the requirements discussed in the course.**5 pts**\n",
        "      *  User prompt meets expectations **5 pts**\n",
        "      *  There are a total of three different outputs expected based on user age input. **30 pts (10 pts ea.)**\n",
        "\n",
        "**Example Output:** “Congratulations George, it will only be 5 years until you are eligible to retire. “\n",
        "\n",
        "**Bonus points** if the built in Date module is used to calculate the current year and calculate what year the user will retire.\n",
        "Example: “Congratulations George, it will only be 5 years until you are eligible to retire in 2027. “**10 pts**\n"
      ],
      "metadata": {
        "id": "ZjmrLEZiTzXB"
      }
    },
    {
      "cell_type": "code",
      "source": [
        "#Enter Task 3 code here"
      ],
      "metadata": {
        "id": "PrRYLDW6lbeo"
      },
      "execution_count": null,
      "outputs": []
    }
  ]
}