{
  "nbformat": 4,
  "nbformat_minor": 0,
  "metadata": {
    "colab": {
      "provenance": [],
      "include_colab_link": true
    },
    "kernelspec": {
      "name": "python3",
      "display_name": "Python 3"
    },
    "language_info": {
      "name": "python"
    }
  },
  "cells": [
    {
      "cell_type": "markdown",
      "metadata": {
        "id": "view-in-github",
        "colab_type": "text"
      },
      "source": [
        "<a href=\"https://colab.research.google.com/github/Seb1015/SwiftUI-Tutorial/blob/main/COP1000_Module3.ipynb\" target=\"_parent\"><img src=\"https://colab.research.google.com/assets/colab-badge.svg\" alt=\"Open In Colab\"/></a>"
      ]
    },
    {
      "cell_type": "markdown",
      "source": [
        "#**Practice Exercise 2**"
      ],
      "metadata": {
        "id": "ebe38UDKnzLf"
      }
    },
    {
      "cell_type": "code",
      "source": [
        "from IPython.display import YouTubeVideo\n",
        "YouTubeVideo('iHWC6SmEHuw', width=800, height=300)"
      ],
      "metadata": {
        "id": "63iqgSsidDqw"
      },
      "execution_count": null,
      "outputs": []
    },
    {
      "cell_type": "markdown",
      "source": [
        "\n",
        "\n",
        "Integers (whole numbers such as 42 and 100000000)\n",
        "\n",
        "Floats (numbers with decimal points such as 3.14159, or sometimes exponents like 1.0e8, which means one times ten to the eighth power, or 100000000.0)"
      ],
      "metadata": {
        "id": "w3luoarSTF53"
      }
    },
    {
      "cell_type": "code",
      "source": [
        "from IPython.display import YouTubeVideo\n",
        "YouTubeVideo('kfppyWGU7M8', width=800, height=300)"
      ],
      "metadata": {
        "colab": {
          "base_uri": "https://localhost:8080/",
          "height": 321
        },
        "id": "07RzQsAzd_HY",
        "outputId": "c532e389-73a6-4a9b-858f-095bb624dc7b"
      },
      "execution_count": null,
      "outputs": [
        {
          "output_type": "execute_result",
          "data": {
            "text/plain": [
              "<IPython.lib.display.YouTubeVideo at 0x7f6a59e4af70>"
            ],
            "text/html": [
              "\n",
              "        <iframe\n",
              "            width=\"800\"\n",
              "            height=\"300\"\n",
              "            src=\"https://www.youtube.com/embed/kfppyWGU7M8\"\n",
              "            frameborder=\"0\"\n",
              "            allowfullscreen\n",
              "        ></iframe>\n",
              "        "
            ],
            "image/jpeg": "[encoded data removed]"
          },
          "metadata": {},
          "execution_count": 2
        }
      ]
    },
    {
      "cell_type": "markdown",
      "source": [
        "# **Literals**"
      ],
      "metadata": {
        "id": "BpKKrLzqSGGP"
      }
    },
    {
      "cell_type": "markdown",
      "source": [
        "**Literal Integers**\n",
        "* Any sequence of digits in Python represents a literal integer\n",
        "* But you can’t have an initial 0 followed by a digit between 1 and 9\n",
        "* If you try to assign a value of 09 for example it will throw an exception.\n",
        "* You can’t have any commas in the integer example: 1,000,000. That would create a tuple instead of a number and we will deal with tuples later in the course.\n",
        "* if you put underscores after the first number in any location they are ignored by the system."
      ],
      "metadata": {
        "id": "nxep_FMETTH6"
      }
    },
    {
      "cell_type": "markdown",
      "source": [
        "**Numeric Data Types**\n",
        " * **Integer**\n",
        "   * *numpy*\n",
        "    * int\n",
        "    * uintc\n",
        "   * *py*\n",
        "    * int\n",
        " * **Floating Point**\n",
        "   * *numpy*\n",
        "    * float16 (half precision point)\n",
        "    * single\n",
        "   * *py*\n",
        "    * float    \n",
        " * **Short**\n",
        "   * *numpy*\n",
        "    * short\n",
        "     * ushort\n",
        " * **Long**\n",
        "   * *numpy*\n",
        "    * int_\n",
        "    * uint\n",
        "    * longlong\n",
        "    * ulonglong      \n",
        " * **Double**\n",
        "   * *numpy* \n",
        "    * double\n",
        "    * longdouble\n",
        " * **Decimal**"
      ],
      "metadata": {
        "id": "I3ONco6LSTJU"
      }
    },
    {
      "cell_type": "markdown",
      "source": [
        "# **Integer Operations**"
      ],
      "metadata": {
        "id": "mjEeZhk-USJk"
      }
    },
    {
      "cell_type": "markdown",
      "source": [
        "**Assignment operators**\n",
        "\n",
        "\n",
        "Assignment operators are used in Python to assign values to variables.\n",
        "\n",
        "a = 5 is a simple assignment operator that assigns the value 5 on the right to the variable a on the left.\n",
        "\n",
        "There are various compound operators in Python like a += 5 that adds to the variable and later assigns the same. It is equivalent to a = a + 5.\n",
        "\n",
        "**Operator** $\\>$ $\\>$ \t**Example**\t$\\>$ $\\>$ **Equivalent to**\n",
        "\n",
        "=\t$\\>$ $\\>$ $\\>$ $\\>$ $\\>$ $\\>$ $\\>$ $\\>$ $\\>$ $\\>$ x = 5\t$\\>$ $\\>$ $\\>$ $\\>$ $\\>$ $\\>$ x = 5\n",
        "\n",
        "+=$\\>$ $\\>$ $\\>$ $\\>$ $\\>$ $\\>$ $\\>$ $\\>$ $\\>$ $\\>$\tx += 5$\\>$ $\\>$ $\\>$ $\\>$ $\\>$ $\\>$\tx = x + 5\n",
        "\n",
        "-=$\\>$ $\\>$ $\\>$ $\\>$ $\\>$ $\\>$ $\\>$ $\\>$ $\\>$ $\\>$\tx -= 5$\\>$ $\\>$ $\\>$ $\\>$ $\\>$ $\\>$\tx = x - 5\n",
        "\n",
        "*=$\\>$ $\\>$ $\\>$ $\\>$ $\\>$ $\\>$ $\\>$ $\\>$ $\\>$ $\\>$\tx *= 5$\\>$ $\\>$ $\\>$ $\\>$ $\\>$ $\\>$\tx = x * 5\n",
        "\n",
        "/=$\\>$ $\\>$ $\\>$ $\\>$ $\\>$ $\\>$ $\\>$ $\\>$ $\\>$ $\\>$\tx /= 5$\\>$ $\\>$ $\\>$ $\\>$ $\\>$ $\\>$\tx = x / 5\n",
        "\n",
        "%=$\\>$ $\\>$ $\\>$ $\\>$ $\\>$ $\\>$ $\\>$ $\\>$ $\\>$ $\\>$\tx %= 5$\\>$ $\\>$ $\\>$ $\\>$ $\\>$ $\\>$\tx = x % 5\n",
        "\n",
        "//=$\\>$ $\\>$ $\\>$ $\\>$ $\\>$ $\\>$ $\\>$ $\\>$ $\\>$ $\\>$\tx //= 5$\\>$ $\\>$ $\\>$ $\\>$ $\\>$ $\\>$\tx = x // 5\n",
        "\n",
        "**=$\\>$ $\\>$ $\\>$ $\\>$ $\\>$ $\\>$ $\\>$ $\\>$ $\\>$ $\\>$\tx **= 5$\\>$ $\\>$ $\\>$ $\\>$ $\\>$ $\\>$\tx = x ** 5\n",
        "\n",
        "&=$\\>$ $\\>$ $\\>$ $\\>$ $\\>$ $\\>$ $\\>$ $\\>$ $\\>$ $\\>$\tx &= 5$\\>$ $\\>$ $\\>$ $\\>$ $\\>$ $\\>$\tx = x & 5\n",
        "\n",
        "|=$\\>$ $\\>$ $\\>$ $\\>$ $\\>$ $\\>$ $\\>$ $\\>$ $\\>$ $\\>$\tx |= 5$\\>$ $\\>$ $\\>$ $\\>$ $\\>$ $\\>$\tx = x | 5\n",
        "\n",
        "^=$\\>$ $\\>$ $\\>$ $\\>$ $\\>$ $\\>$ $\\>$ $\\>$ $\\>$ $\\>$\tx ^= 5$\\>$ $\\>$ $\\>$ $\\>$ $\\>$ $\\>$\tx = x ^ 5\n",
        "\n",
        "$>>=$  $\\>$ $\\>$ $\\>$ $\\>$ $\\>$ $\\>$\tx >>= 5$\\>$ $\\>$ $\\>$ $\\>$ $\\>$ $\\>$\tx = x >> 5\n",
        "\n",
        "<<= $\\>$ $\\>$ $\\>$ $\\>$ $\\>$ $\\>$ $\\>$ $\\>$\tx <<= 5$\\>$ $\\>$ $\\>$ $\\>$ $\\>$ $\\>$\tx = x << 5\n"
      ],
      "metadata": {
        "id": "O1fC3Jspj4ZV"
      }
    },
    {
      "cell_type": "markdown",
      "source": [
        "**$+$   Addition**\n",
        "\n",
        "      Example: 5 + 8\n",
        "\n",
        "      Result: 13\n",
        "\n",
        "\n",
        "\n",
        "**$ - $ Subtraction**\n",
        "\n",
        "      Example: 90 - 10\n",
        "\n",
        "      Result: 80\n",
        "\n",
        "\n",
        "\n",
        "**$ \\ast    $   Multiplication**\n",
        "\n",
        "      Example: 4 * 7\n",
        "\n",
        "      Result:28\n",
        "\n",
        "\n",
        "**/   Floating-point division**\n",
        "\n",
        "      Example: 7 / 2\n",
        "\n",
        "      Result: 3.5\n",
        "\n",
        "\n",
        "**//   Integer (truncating) division**\n",
        "\n",
        "      Example: 7 // 2\n",
        "\n",
        "      Result: 3\n",
        "\n",
        "\n",
        "**%   Modulus (remainder)**\n",
        "\n",
        "      Example: 7 % 3\n",
        "\n",
        "      Result: 1\n",
        "\n",
        "\n",
        "****    Exponentiation**\n",
        "\n",
        "      Example: 3 ** 4\n",
        "\n",
        "      Result: 81"
      ],
      "metadata": {
        "id": "kUlsadcfUV9K"
      }
    },
    {
      "cell_type": "markdown",
      "source": [
        "# **Integers and Variables**"
      ],
      "metadata": {
        "id": "7fmURrYjXg3w"
      }
    },
    {
      "cell_type": "markdown",
      "source": [
        "All of the preceding examples used literal integers. You can mix literal integers and variables that have been assigned integer values\n"
      ],
      "metadata": {
        "id": "sCu20cQ7XiWQ"
      }
    },
    {
      "cell_type": "code",
      "source": [
        "from IPython.display import YouTubeVideo\n",
        "YouTubeVideo('T-E4yqnwK1Y', width=800, height=300)"
      ],
      "metadata": {
        "colab": {
          "base_uri": "https://localhost:8080/",
          "height": 321
        },
        "id": "9EAWjgY6dObk",
        "outputId": "6b748fd4-5aae-4647-f101-b014d6ba0bb4"
      },
      "execution_count": null,
      "outputs": [
        {
          "output_type": "execute_result",
          "data": {
            "text/plain": [
              "<IPython.lib.display.YouTubeVideo at 0x7f6a59e17a30>"
            ],
            "text/html": [
              "\n",
              "        <iframe\n",
              "            width=\"800\"\n",
              "            height=\"300\"\n",
              "            src=\"https://www.youtube.com/embed/T-E4yqnwK1Y\"\n",
              "            frameborder=\"0\"\n",
              "            allowfullscreen\n",
              "        ></iframe>\n",
              "        "
            ],
            "image/jpeg": "[encoded data removed]"
          },
          "metadata": {},
          "execution_count": 1
        }
      ]
    },
    {
      "cell_type": "markdown",
      "source": [
        "# Precedence"
      ],
      "metadata": {
        "id": "1_mpNLHNXyuO"
      }
    },
    {
      "cell_type": "markdown",
      "source": [
        "**Operator\tDescription and examples** *sorted by order of precedence*\n",
        "\n",
        " \n",
        "   \n",
        "**Operator**      [v, …], {v1, …}, {k1:v1, …}, (…)\n",
        "\n",
        "      \n",
        "      **example**  List/set/dict/generator creation or comprehension, parenthesized expression\n",
        "\n",
        "**Operator**   seq[n], seq[n:m], func(args…), obj.attr\n",
        "\n",
        "      \n",
        "      **example** Index, slice, function call, attribute reference\n",
        "\n",
        "**Operator** **\n",
        "\n",
        "      \n",
        "      **example** Exponentiation\n",
        "\n",
        "**Operator** +n, –n, ~n\n",
        "\n",
        "      \n",
        "      **example** Positive, negative, bitwise not\n",
        "\n",
        "**Operator** $ *, /, //, $% \n",
        "\n",
        "      \n",
        "      **example** Multiplication, float division, int division, remainder\n",
        "\n",
        "**Operator** +, -\n",
        "\n",
        "      \n",
        "      **example** Addition, subtraction\n",
        "\n",
        "**Operator** <<, >>\n",
        "\n",
        "      \n",
        "      **example** Bitwise left, right shifts\n",
        "\n",
        "**Operator** &\n",
        "\n",
        "      \n",
        "      **example** Bitwise and\n",
        "\n",
        "**Operator** |\n",
        "\n",
        "      \n",
        "      **example** Bitwise or\n",
        "\n",
        "**Operator** in, not in, is, is not, <, <=, >, >=, !=, ==\n",
        "\n",
        "      \n",
        "      **example** Membership and equality tests\n",
        "\n",
        "**Operator** not x\n",
        "\n",
        "      \n",
        "      **example** Boolean (logical) not\n",
        "\n",
        "**Operator** and\n",
        "\n",
        "      \n",
        "      **example** Boolean and\n",
        "\n",
        "**Operator** or\n",
        "\n",
        "      \n",
        "      **example** Boolean or\n",
        "\n",
        "**Operator** if … else\n",
        "\n",
        "      \n",
        "      **example** Conditional expression\n",
        "\n",
        "**Operator** lambda …\n",
        "\n",
        "      \n",
        "      **example** lambda expression"
      ],
      "metadata": {
        "id": "QcD8lURmY2Nn"
      }
    },
    {
      "cell_type": "code",
      "source": [
        "# Practice here with math calculations and precedence."
      ],
      "metadata": {
        "id": "bMfsFoKN9iIH"
      },
      "execution_count": null,
      "outputs": []
    },
    {
      "cell_type": "code",
      "source": [
        "age=input(\"enter your age (example 21):  \")\n",
        "#halfAge = age / 2\n",
        "#halfAge = float(age) / 2\n",
        "print(\"Half of your age is \", halfAge)\n",
        "\n",
        "# uncomment the first comment above and run the cell, then comment it out and try the other commented statement. "
      ],
      "metadata": {
        "id": "lpQwKO1d-isM"
      },
      "execution_count": null,
      "outputs": []
    },
    {
      "cell_type": "code",
      "source": [
        "#Practice here with Type casting"
      ],
      "metadata": {
        "id": "ThTo82FN9tvI"
      },
      "execution_count": null,
      "outputs": []
    },
    {
      "cell_type": "code",
      "source": [
        "import math\n",
        "print(math.trunc(254.9987))\n",
        "\n",
        "print(math.sqrt(16))"
      ],
      "metadata": {
        "colab": {
          "base_uri": "https://localhost:8080/"
        },
        "id": "wWhBf0zQ-AJp",
        "outputId": "2a278d68-1367-4052-d297-c1662df2af29"
      },
      "execution_count": null,
      "outputs": [
        {
          "output_type": "stream",
          "name": "stdout",
          "text": [
            "254\n",
            "4.0\n"
          ]
        }
      ]
    },
    {
      "cell_type": "code",
      "source": [
        "# practice here using the math.pi function"
      ],
      "metadata": {
        "id": "gciiMRM696jF"
      },
      "execution_count": null,
      "outputs": []
    },
    {
      "cell_type": "code",
      "source": [
        "from IPython.display import YouTubeVideo\n",
        "YouTubeVideo('KYpows5W36Y', width=800, height=300)"
      ],
      "metadata": {
        "id": "j38W2ZFAdbaD"
      },
      "execution_count": null,
      "outputs": []
    },
    {
      "cell_type": "code",
      "source": [
        "from IPython.display import YouTubeVideo\n",
        "YouTubeVideo('_4tVcENUkyQ', width=800, height=300)"
      ],
      "metadata": {
        "id": "R6kx9uExdj-t"
      },
      "execution_count": null,
      "outputs": []
    }
  ]
}