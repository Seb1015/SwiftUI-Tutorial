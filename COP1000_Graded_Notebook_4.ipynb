{
  "cells": [
    {
      "cell_type": "markdown",
      "metadata": {
        "id": "view-in-github",
        "colab_type": "text"
      },
      "source": [
        "<a href=\"https://colab.research.google.com/github/Seb1015/SwiftUI-Tutorial/blob/main/COP1000_Graded_Notebook_4.ipynb\" target=\"_parent\"><img src=\"https://colab.research.google.com/assets/colab-badge.svg\" alt=\"Open In Colab\"/></a>"
      ]
    },
    {
      "cell_type": "markdown",
      "source": [
        "# Graded Notebook 4\n",
        "* **Possible 155 points out of 100.**\n",
        "\n",
        "* Your name here: Sebastian Silva\n",
        "* The shared link to this notebook here: https://colab.research.google.com/drive/1DI5InfqSuBVDpxQb_gRwJ5eVPkVZutSC?usp=sharing"
      ],
      "metadata": {
        "id": "Bw07pWSBb05w"
      }
    },
    {
      "cell_type": "markdown",
      "source": [
        "## **Task 1** (60 points possible)\n",
        "*  use the random module to generate a random number, prompt the user for a guess at the number until the user guesses the number. When the guess is too high, let the user know, when too low let them know, and when they guess it let them know it was correct and in how many guesses.\n",
        "\n",
        "    * Comments and code organization are expected to adhere to the requirements discussed in the course. **10 pts**\n",
        "    *  While loop funtions as expected **10 pts**\n",
        "    *  random number generated as expected **10**\n",
        "    *  Outputs meet expectations  **20 pts**\n",
        "    *  Use a main method with a conditional that checks to see if a main method exists **bonus 10 pts**"
      ],
      "metadata": {
        "id": "8DYnUTSsb4Wg"
      }
    },
    {
      "cell_type": "code",
      "source": [
        "# Your code here (Task 1)\n",
        "import random\n",
        "\n",
        "def guess_number():\n",
        "    # Generate a random number between 1 and 100 (you can adjust the range as needed)\n",
        "    random_number = random.randint(1, 100)\n",
        "    num_guesses = 0\n",
        "\n",
        "    while True:\n",
        "        try:\n",
        "            # Prompt the user for a guess\n",
        "            user_guess = int(input(\"Guess the number: \"))\n",
        "            num_guesses += 1\n",
        "\n",
        "            if user_guess < random_number:\n",
        "                print(\"Too low! Try again.\")\n",
        "            elif user_guess > random_number:\n",
        "                print(\"Too high! Try again.\")\n",
        "            else:\n",
        "                print(f\"Congratulations! You guessed the correct number {random_number} in {num_guesses} attempts.\")\n",
        "                break\n",
        "        except ValueError:\n",
        "            print(\"Invalid input. Please enter a valid number.\")\n",
        "\n",
        "if __name__ == \"__main__\":\n",
        "    guess_number()"
      ],
      "metadata": {
        "id": "pLJxf2GR-ued",
        "outputId": "25c90528-66b3-471f-f888-1e3486fd9b13",
        "colab": {
          "base_uri": "https://localhost:8080/"
        }
      },
      "execution_count": 1,
      "outputs": [
        {
          "output_type": "stream",
          "name": "stdout",
          "text": [
            "Guess the number: 2\n",
            "Too low! Try again.\n",
            "Guess the number: 4\n",
            "Too low! Try again.\n",
            "Guess the number: 11\n",
            "Too low! Try again.\n",
            "Guess the number: 0\n",
            "Too low! Try again.\n",
            "Guess the number: -2\n",
            "Too low! Try again.\n",
            "Guess the number: 222222\n",
            "Too high! Try again.\n",
            "Guess the number: 222\n",
            "Too high! Try again.\n",
            "Guess the number: 22\n",
            "Too low! Try again.\n",
            "Guess the number: 100\n",
            "Too high! Try again.\n",
            "Guess the number: 99\n",
            "Too high! Try again.\n",
            "Guess the number: 60\n",
            "Too high! Try again.\n",
            "Guess the number: 30\n",
            "Too low! Try again.\n",
            "Guess the number: 50\n",
            "Too high! Try again.\n",
            "Guess the number: 49\n",
            "Too high! Try again.\n",
            "Guess the number: 40\n",
            "Too high! Try again.\n",
            "Guess the number: 35\n",
            "Too low! Try again.\n",
            "Guess the number: 36\n",
            "Congratulations! You guessed the correct number 36 in 17 attempts.\n"
          ]
        }
      ]
    },
    {
      "cell_type": "markdown",
      "source": [
        "## **Task 2** (60 points possible)\n",
        "* use the Starter code below. diplay the first 20 records in the DataFrame.\n",
        "* in the cell provided display info about the columns in the dataframe\n",
        "* in the cell provided remove row # 72 that has an income of 22.93\n",
        "* in the cell provided remove column 'Married'\n",
        "* **Bonus points** Reshape the data in the gender column to an integer 1 for Male or 0 Female\n",
        "\n",
        "    *  first 20 records(rows)  **10 pts**\n",
        "    *  display info about the columns **10 pts**\n",
        "    *  Remove row number 72 **10**\n",
        "    *  Remove the Married column  **10 pts**\n",
        "    *  Reshape the data in the gender column to an integer 1 for Male or 0 Female**bonus 20 pts**"
      ],
      "metadata": {
        "id": "B-i2P3ri4js3"
      }
    },
    {
      "cell_type": "code",
      "source": [
        "# Import pandas package\n",
        "import pandas as pd\n",
        "\n",
        "# starter code\n",
        "\n",
        "url= \"https://drive.google.com/file/d/1UqAoosxMF5MxhlvAfgxtOhteFiQGpMpe/view?usp=sharing\"\n",
        "url='https://drive.google.com/uc?id=' + url.split('/')[-2]\n",
        "\n",
        "Credit_df = pd.read_csv(url)\n",
        "\n",
        "# Your code here to display first 20 records(rows) in the dataframe\n",
        "print(Credit_df.head(20))"
      ],
      "metadata": {
        "id": "hA-p1pdI5HDK",
        "outputId": "d41ef5f5-2e00-42c9-b8dd-19eb5e1ce030",
        "colab": {
          "base_uri": "https://localhost:8080/"
        }
      },
      "execution_count": 2,
      "outputs": [
        {
          "output_type": "stream",
          "name": "stdout",
          "text": [
            "     Income  Limit  Rating  Cards  Age  Education  Gender Student Married  \\\n",
            "0    14.891   3606     283      2   34         11    Male      No     Yes   \n",
            "1   106.025   6645     483      3   82         15  Female     Yes     Yes   \n",
            "2   104.593   7075     514      4   71         11    Male      No      No   \n",
            "3   148.924   9504     681      3   36         11  Female      No      No   \n",
            "4    55.882   4897     357      2   68         16    Male      No     Yes   \n",
            "5    80.180   8047     569      4   77         10    Male      No      No   \n",
            "6    20.996   3388     259      2   37         12  Female      No      No   \n",
            "7    71.408   7114     512      2   87          9    Male      No      No   \n",
            "8    15.125   3300     266      5   66         13  Female      No      No   \n",
            "9    71.061   6819     491      3   41         19  Female     Yes     Yes   \n",
            "10   63.095   8117     589      4   30         14    Male      No     Yes   \n",
            "11   15.045   1311     138      3   64         16    Male      No      No   \n",
            "12   80.616   5308     394      1   57          7  Female      No     Yes   \n",
            "13   43.682   6922     511      1   49          9    Male      No     Yes   \n",
            "14   19.144   3291     269      2   75         13  Female      No      No   \n",
            "15   20.089   2525     200      3   57         15  Female      No     Yes   \n",
            "16   53.598   3714     286      3   73         17  Female      No     Yes   \n",
            "17   36.496   4378     339      3   69         15  Female      No     Yes   \n",
            "18   49.570   6384     448      1   28          9  Female      No     Yes   \n",
            "19   42.079   6626     479      2   44          9    Male      No      No   \n",
            "\n",
            "    Balance  \n",
            "0       333  \n",
            "1       903  \n",
            "2       580  \n",
            "3       964  \n",
            "4       331  \n",
            "5      1151  \n",
            "6       203  \n",
            "7       872  \n",
            "8       279  \n",
            "9      1350  \n",
            "10     1407  \n",
            "11        0  \n",
            "12      204  \n",
            "13     1081  \n",
            "14      148  \n",
            "15        0  \n",
            "16        0  \n",
            "17      368  \n",
            "18      891  \n",
            "19     1048  \n"
          ]
        }
      ]
    },
    {
      "cell_type": "code",
      "source": [
        "# Your code here to display info about the columns in the dataframe\n",
        "print(Credit_df.info())"
      ],
      "metadata": {
        "id": "sjSBsQje5jnJ",
        "outputId": "db8ef443-ca11-42c8-8648-579a5dec56e0",
        "colab": {
          "base_uri": "https://localhost:8080/"
        }
      },
      "execution_count": 3,
      "outputs": [
        {
          "output_type": "stream",
          "name": "stdout",
          "text": [
            "<class 'pandas.core.frame.DataFrame'>\n",
            "RangeIndex: 400 entries, 0 to 399\n",
            "Data columns (total 10 columns):\n",
            " #   Column     Non-Null Count  Dtype  \n",
            "---  ------     --------------  -----  \n",
            " 0   Income     400 non-null    float64\n",
            " 1   Limit      400 non-null    int64  \n",
            " 2   Rating     400 non-null    int64  \n",
            " 3   Cards      400 non-null    int64  \n",
            " 4   Age        400 non-null    int64  \n",
            " 5   Education  400 non-null    int64  \n",
            " 6   Gender     400 non-null    object \n",
            " 7   Student    400 non-null    object \n",
            " 8   Married    400 non-null    object \n",
            " 9   Balance    400 non-null    int64  \n",
            "dtypes: float64(1), int64(6), object(3)\n",
            "memory usage: 31.4+ KB\n",
            "None\n"
          ]
        }
      ]
    },
    {
      "cell_type": "code",
      "source": [
        "# Your code here to remove row # 72 that has an income of 22.93\n",
        "Credit_df = Credit_df.drop(index=71)  # Row numbers start from 0, so 71 corresponds to row 72"
      ],
      "metadata": {
        "id": "JG0Xno6-5w9A"
      },
      "execution_count": 4,
      "outputs": []
    },
    {
      "cell_type": "code",
      "source": [
        "# Your code here to remove column 'Married'\n",
        "Credit_df = Credit_df.drop(columns='Married')"
      ],
      "metadata": {
        "id": "x-bSkdJX5622"
      },
      "execution_count": 5,
      "outputs": []
    },
    {
      "cell_type": "code",
      "source": [
        "# Your code here to reshape the data in the gender column\n",
        "if 'gender' in Credit_df.columns:\n",
        "    Credit_df['gender'] = Credit_df['gender'].map({'Male': 1, 'Female': 0})\n",
        "else:\n",
        "    print(\"Column 'gender' not found in the DataFrame.\")"
      ],
      "metadata": {
        "id": "sNU9DEVY6iVT",
        "outputId": "fd579c27-8b5a-489a-8171-0d71bcfa37d0",
        "colab": {
          "base_uri": "https://localhost:8080/"
        }
      },
      "execution_count": 7,
      "outputs": [
        {
          "output_type": "stream",
          "name": "stdout",
          "text": [
            "Column 'gender' not found in the DataFrame.\n"
          ]
        }
      ]
    },
    {
      "cell_type": "markdown",
      "source": [
        "## **Task 3** (35 possible)\n",
        "* Use the time.perf_counter or timeit module to track the performance of the  loop in the code block provided below.\n",
        "* **Bonus points** perform same task as above using cProfile and clear output of each displayed line before a new print() is called.\n",
        "\n",
        "    *  performance measured  **10 pts**\n",
        "    *  use cProfile to performe the same task above 20000 times in the code block provided**bonus 20 pts**\n",
        "    * clear each output line when the next line is displayed. **bonus 5 pts**"
      ],
      "metadata": {
        "id": "Dr-4sMsg8exv"
      }
    },
    {
      "cell_type": "code",
      "source": [
        "# Import the required modules\n",
        "import time\n",
        "import cProfile\n",
        "from IPython.display import clear_output\n",
        "\n",
        "# Function to be tested\n",
        "def test_fn():\n",
        "    for i in range(8):\n",
        "        print(i)\n",
        "\n",
        "# Measure performance using time.perf_counter\n",
        "start_time = time.perf_counter()\n",
        "test_fn()\n",
        "end_time = time.perf_counter()\n",
        "\n",
        "# Calculate and display the performance\n",
        "print(f\"Time taken: {end_time - start_time:.6f} seconds\")\n",
        "\n",
        "# Measure performance using cProfile and clear output\n",
        "def profile_test_fn():\n",
        "    cProfile.run('test_fn()', sort='cumulative')\n",
        "\n",
        "# Loop to run profile_test_fn() a few times and clear output\n",
        "clear_output(wait=True)\n",
        "for _ in range(5):\n",
        "    profile_test_fn()\n",
        "    time.sleep(1)  # Add a delay of 1 second between iterations"
      ],
      "metadata": {
        "id": "9eW8NulH9WWK",
        "outputId": "bed205ab-25c6-435a-8cff-3fdb5b3452ba",
        "colab": {
          "base_uri": "https://localhost:8080/"
        }
      },
      "execution_count": 11,
      "outputs": [
        {
          "output_type": "stream",
          "name": "stdout",
          "text": [
            "0\n",
            "1\n",
            "2\n",
            "3\n",
            "4\n",
            "5\n",
            "6\n",
            "7\n",
            "         228 function calls in 0.000 seconds\n",
            "\n",
            "   Ordered by: cumulative time\n",
            "\n",
            "   ncalls  tottime  percall  cumtime  percall filename:lineno(function)\n",
            "        1    0.000    0.000    0.000    0.000 {built-in method builtins.exec}\n",
            "        1    0.000    0.000    0.000    0.000 <string>:1(<module>)\n",
            "        1    0.000    0.000    0.000    0.000 <ipython-input-11-a115a679d1b2>:7(test_fn)\n",
            "        8    0.000    0.000    0.000    0.000 {built-in method builtins.print}\n",
            "       16    0.000    0.000    0.000    0.000 iostream.py:384(write)\n",
            "       17    0.000    0.000    0.000    0.000 iostream.py:195(schedule)\n",
            "       17    0.000    0.000    0.000    0.000 socket.py:543(send)\n",
            "       17    0.000    0.000    0.000    0.000 threading.py:1169(is_alive)\n",
            "       17    0.000    0.000    0.000    0.000 threading.py:1102(_wait_for_tstate_lock)\n",
            "       16    0.000    0.000    0.000    0.000 iostream.py:308(_is_master_process)\n",
            "       16    0.000    0.000    0.000    0.000 iostream.py:321(_schedule_flush)\n",
            "       17    0.000    0.000    0.000    0.000 {method 'acquire' of '_thread.lock' objects}\n",
            "       16    0.000    0.000    0.000    0.000 {built-in method posix.getpid}\n",
            "       17    0.000    0.000    0.000    0.000 iostream.py:91(_event_pipe)\n",
            "       17    0.000    0.000    0.000    0.000 threading.py:553(is_set)\n",
            "       16    0.000    0.000    0.000    0.000 {built-in method builtins.isinstance}\n",
            "       17    0.000    0.000    0.000    0.000 {method 'append' of 'collections.deque' objects}\n",
            "        1    0.000    0.000    0.000    0.000 {method 'disable' of '_lsprof.Profiler' objects}\n",
            "\n",
            "\n",
            "0\n",
            "1\n",
            "2\n",
            "3\n",
            "4\n",
            "5\n",
            "6\n",
            "7\n",
            "         228 function calls in 0.000 seconds\n",
            "\n",
            "   Ordered by: cumulative time\n",
            "\n",
            "   ncalls  tottime  percall  cumtime  percall filename:lineno(function)\n",
            "        1    0.000    0.000    0.000    0.000 {built-in method builtins.exec}\n",
            "        1    0.000    0.000    0.000    0.000 <string>:1(<module>)\n",
            "        1    0.000    0.000    0.000    0.000 <ipython-input-11-a115a679d1b2>:7(test_fn)\n",
            "        8    0.000    0.000    0.000    0.000 {built-in method builtins.print}\n",
            "       16    0.000    0.000    0.000    0.000 iostream.py:384(write)\n",
            "       17    0.000    0.000    0.000    0.000 iostream.py:195(schedule)\n",
            "       17    0.000    0.000    0.000    0.000 socket.py:543(send)\n",
            "       17    0.000    0.000    0.000    0.000 threading.py:1169(is_alive)\n",
            "       17    0.000    0.000    0.000    0.000 threading.py:1102(_wait_for_tstate_lock)\n",
            "       16    0.000    0.000    0.000    0.000 iostream.py:308(_is_master_process)\n",
            "       16    0.000    0.000    0.000    0.000 iostream.py:321(_schedule_flush)\n",
            "       17    0.000    0.000    0.000    0.000 iostream.py:91(_event_pipe)\n",
            "       17    0.000    0.000    0.000    0.000 {method 'acquire' of '_thread.lock' objects}\n",
            "       16    0.000    0.000    0.000    0.000 {built-in method posix.getpid}\n",
            "       17    0.000    0.000    0.000    0.000 threading.py:553(is_set)\n",
            "       17    0.000    0.000    0.000    0.000 {method 'append' of 'collections.deque' objects}\n",
            "       16    0.000    0.000    0.000    0.000 {built-in method builtins.isinstance}\n",
            "        1    0.000    0.000    0.000    0.000 {method 'disable' of '_lsprof.Profiler' objects}\n",
            "\n",
            "\n",
            "0\n",
            "1\n",
            "2\n",
            "3\n",
            "4\n",
            "5\n",
            "6\n",
            "7\n",
            "         228 function calls in 0.002 seconds\n",
            "\n",
            "   Ordered by: cumulative time\n",
            "\n",
            "   ncalls  tottime  percall  cumtime  percall filename:lineno(function)\n",
            "        1    0.000    0.000    0.002    0.002 {built-in method builtins.exec}\n",
            "        1    0.000    0.000    0.002    0.002 <string>:1(<module>)\n",
            "        1    0.000    0.000    0.002    0.002 <ipython-input-11-a115a679d1b2>:7(test_fn)\n",
            "        8    0.000    0.000    0.002    0.000 {built-in method builtins.print}\n",
            "       16    0.000    0.000    0.002    0.000 iostream.py:384(write)\n",
            "       17    0.000    0.000    0.002    0.000 iostream.py:195(schedule)\n",
            "       17    0.001    0.000    0.001    0.000 socket.py:543(send)\n",
            "       17    0.000    0.000    0.000    0.000 threading.py:1169(is_alive)\n",
            "       17    0.000    0.000    0.000    0.000 threading.py:1102(_wait_for_tstate_lock)\n",
            "       16    0.000    0.000    0.000    0.000 iostream.py:308(_is_master_process)\n",
            "       16    0.000    0.000    0.000    0.000 iostream.py:321(_schedule_flush)\n",
            "       17    0.000    0.000    0.000    0.000 iostream.py:91(_event_pipe)\n",
            "       17    0.000    0.000    0.000    0.000 {method 'acquire' of '_thread.lock' objects}\n",
            "       16    0.000    0.000    0.000    0.000 {built-in method posix.getpid}\n",
            "       17    0.000    0.000    0.000    0.000 threading.py:553(is_set)\n",
            "       17    0.000    0.000    0.000    0.000 {method 'append' of 'collections.deque' objects}\n",
            "       16    0.000    0.000    0.000    0.000 {built-in method builtins.isinstance}\n",
            "        1    0.000    0.000    0.000    0.000 {method 'disable' of '_lsprof.Profiler' objects}\n",
            "\n",
            "\n",
            "0\n",
            "1\n",
            "2\n",
            "3\n",
            "4\n",
            "5\n",
            "6\n",
            "7\n",
            "         228 function calls in 0.002 seconds\n",
            "\n",
            "   Ordered by: cumulative time\n",
            "\n",
            "   ncalls  tottime  percall  cumtime  percall filename:lineno(function)\n",
            "        1    0.000    0.000    0.002    0.002 {built-in method builtins.exec}\n",
            "        1    0.000    0.000    0.002    0.002 <string>:1(<module>)\n",
            "        1    0.000    0.000    0.002    0.002 <ipython-input-11-a115a679d1b2>:7(test_fn)\n",
            "        8    0.000    0.000    0.002    0.000 {built-in method builtins.print}\n",
            "       16    0.000    0.000    0.002    0.000 iostream.py:384(write)\n",
            "       17    0.000    0.000    0.002    0.000 iostream.py:195(schedule)\n",
            "       17    0.002    0.000    0.002    0.000 socket.py:543(send)\n",
            "       17    0.000    0.000    0.000    0.000 threading.py:1169(is_alive)\n",
            "       16    0.000    0.000    0.000    0.000 iostream.py:308(_is_master_process)\n",
            "       17    0.000    0.000    0.000    0.000 threading.py:1102(_wait_for_tstate_lock)\n",
            "       16    0.000    0.000    0.000    0.000 iostream.py:321(_schedule_flush)\n",
            "       16    0.000    0.000    0.000    0.000 {built-in method posix.getpid}\n",
            "       17    0.000    0.000    0.000    0.000 {method 'acquire' of '_thread.lock' objects}\n",
            "       17    0.000    0.000    0.000    0.000 iostream.py:91(_event_pipe)\n",
            "       17    0.000    0.000    0.000    0.000 threading.py:553(is_set)\n",
            "       16    0.000    0.000    0.000    0.000 {built-in method builtins.isinstance}\n",
            "       17    0.000    0.000    0.000    0.000 {method 'append' of 'collections.deque' objects}\n",
            "        1    0.000    0.000    0.000    0.000 {method 'disable' of '_lsprof.Profiler' objects}\n",
            "\n",
            "\n",
            "0\n",
            "1\n",
            "2\n",
            "3\n",
            "4\n",
            "5\n",
            "6\n",
            "7\n",
            "         228 function calls in 0.001 seconds\n",
            "\n",
            "   Ordered by: cumulative time\n",
            "\n",
            "   ncalls  tottime  percall  cumtime  percall filename:lineno(function)\n",
            "        1    0.000    0.000    0.001    0.001 {built-in method builtins.exec}\n",
            "        1    0.000    0.000    0.000    0.000 <string>:1(<module>)\n",
            "        1    0.000    0.000    0.000    0.000 <ipython-input-11-a115a679d1b2>:7(test_fn)\n",
            "        8    0.000    0.000    0.000    0.000 {built-in method builtins.print}\n",
            "       16    0.000    0.000    0.000    0.000 iostream.py:384(write)\n",
            "       17    0.000    0.000    0.000    0.000 iostream.py:195(schedule)\n",
            "       17    0.000    0.000    0.000    0.000 socket.py:543(send)\n",
            "       17    0.000    0.000    0.000    0.000 threading.py:1169(is_alive)\n",
            "       17    0.000    0.000    0.000    0.000 threading.py:1102(_wait_for_tstate_lock)\n",
            "       16    0.000    0.000    0.000    0.000 iostream.py:308(_is_master_process)\n",
            "       16    0.000    0.000    0.000    0.000 iostream.py:321(_schedule_flush)\n",
            "       17    0.000    0.000    0.000    0.000 {method 'acquire' of '_thread.lock' objects}\n",
            "       16    0.000    0.000    0.000    0.000 {built-in method posix.getpid}\n",
            "       17    0.000    0.000    0.000    0.000 iostream.py:91(_event_pipe)\n",
            "       17    0.000    0.000    0.000    0.000 threading.py:553(is_set)\n",
            "       17    0.000    0.000    0.000    0.000 {method 'append' of 'collections.deque' objects}\n",
            "       16    0.000    0.000    0.000    0.000 {built-in method builtins.isinstance}\n",
            "        1    0.000    0.000    0.000    0.000 {method 'disable' of '_lsprof.Profiler' objects}\n",
            "\n",
            "\n"
          ]
        }
      ]
    }
  ],
  "metadata": {
    "colab": {
      "collapsed_sections": [
        "kc3cbY4wtaZJ",
        "1R5QaunxqvI8"
      ],
      "provenance": [],
      "gpuClass": "premium",
      "include_colab_link": true
    },
    "gpuClass": "premium",
    "kernelspec": {
      "display_name": "Python 3",
      "name": "python3"
    },
    "language_info": {
      "name": "python"
    }
  },
  "nbformat": 4,
  "nbformat_minor": 0
}